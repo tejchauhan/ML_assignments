{
 "cells": [
  {
   "cell_type": "code",
   "execution_count": 1,
   "metadata": {},
   "outputs": [
    {
     "name": "stdout",
     "output_type": "stream",
     "text": [
      "enter probability of a 11/36\n",
      "enter probability of b 6/36\n",
      "enter probability of a|b 2/36\n",
      "probability of b|a  0.0303030303030303\n"
     ]
    }
   ],
   "source": [
    "#Question 1\n",
    "a=(input(\"enter probability of a \")).split('/')\n",
    "a=int(a[0])/int(a[1])\n",
    "b=(input(\"enter probability of b \")).split('/')\n",
    "b=int(b[0])/int(b[1])\n",
    "ab=(input(\"enter probability of a|b \")).split('/')\n",
    "ab=int(ab[0])/int(ab[1])\n",
    "#p(b|a)=p(a and b)/p(a)  also p(a|b)=p(a and b)/p(b)\n",
    "#therefore  p(b|a)=p(a|b)*p(b)/p(a)\n",
    "print(\"probability of b|a \",(ab*b)/a)"
   ]
  },
  {
   "cell_type": "code",
   "execution_count": 2,
   "metadata": {},
   "outputs": [
    {
     "name": "stdout",
     "output_type": "stream",
     "text": [
      "probability of getting a black ball : p(b)  0.5142857142857142\n",
      "probability that ball is taken from bag 1 : p(a)  0.5\n",
      "probablity of getting a black ball , given it is from bag 1 : p(a|b)  0.6\n",
      "probability that ball is taken from bag 1 , given it is black : p(b|a) 0.6171428571428571\n"
     ]
    }
   ],
   "source": [
    "#Question 2\n",
    "#probability of getting a black ball\n",
    "b=((6/10)*(1/2))+((3/7)*(1/2))\n",
    "print(\"probability of getting a black ball : p(b) \",b)\n",
    "#probability that ball is taken from bag 1\n",
    "a=1/2\n",
    "print(\"probability that ball is taken from bag 1 : p(a) \",a)\n",
    "#probablity of getting a black ball , given it is from bag 1\n",
    "ab=6/10\n",
    "print(\"probablity of getting a black ball , given it is from bag 1 : p(a|b) \",ab)\n",
    "#p(b|a)=p(a|b)*p(b)/p(a)\n",
    "print(\"probability that ball is taken from bag 1 , given it is black : p(b|a)\",ab*b/a)"
   ]
  },
  {
   "cell_type": "code",
   "execution_count": 7,
   "metadata": {},
   "outputs": [
    {
     "name": "stdout",
     "output_type": "stream",
     "text": [
      "probability that man speaks truth : p(t)  0.6666666666666666\n",
      "probability that man speaks lie : p(l)  0.33333333333333337\n",
      "probability of getting 4 on dice , given man speaks truth : p(e|t)  0.16666666666666666\n",
      "probability of getting 4 on dice , given man speaks lie : p(e|l)  0.8333333333333334\n",
      "probability the man speaks truth , given that the dice number is 4 : p(t|e)  0.28571428571428564\n"
     ]
    }
   ],
   "source": [
    "#Question 3\n",
    "#probability that man speaks truth\n",
    "t=2/3\n",
    "print(\"probability that man speaks truth : p(t) \",t)\n",
    "#probability that man speaks lie\n",
    "l=1-t\n",
    "print(\"probability that man speaks lie : p(l) \",l)\n",
    "#e is an event of getting 4 on the dice\n",
    "#probability that man tells the number is 4 on dice when it is actually 4\n",
    "et=1/6\n",
    "print(\"probability of getting 4 on dice , given man speaks truth : p(e|t) \",et)\n",
    "#probability that man tells the number is 4 on dice when it is not\n",
    "el=5/6\n",
    "print(\"probability of getting 4 on dice , given man speaks lie : p(e|l) \",el)\n",
    "#probability of actually getting 4\n",
    "#p(t|e)=p(e|t)*p(t)/(((p(e|t)*p(t))+(p(e|l)*p(l)))\n",
    "print(\"probability the man speaks truth , given that the dice number is 4 : p(t|e) \",et*t/((et*t)+(el*l)))"
   ]
  }
 ],
 "metadata": {
  "kernelspec": {
   "display_name": "Python 3",
   "language": "python",
   "name": "python3"
  },
  "language_info": {
   "codemirror_mode": {
    "name": "ipython",
    "version": 3
   },
   "file_extension": ".py",
   "mimetype": "text/x-python",
   "name": "python",
   "nbconvert_exporter": "python",
   "pygments_lexer": "ipython3",
   "version": "3.7.1"
  }
 },
 "nbformat": 4,
 "nbformat_minor": 2
}
